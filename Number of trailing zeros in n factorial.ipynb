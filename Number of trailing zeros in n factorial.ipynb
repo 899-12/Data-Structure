{
 "cells": [
  {
   "cell_type": "code",
   "execution_count": 9,
   "id": "66f06604",
   "metadata": {},
   "outputs": [
    {
     "name": "stdout",
     "output_type": "stream",
     "text": [
      "24\n"
     ]
    }
   ],
   "source": [
    "def trailing_zero(n):\n",
    "    factorial=1\n",
    "    for i in range(1,n+1):\n",
    "        factorial=factorial*i\n",
    "    count=0\n",
    "    while factorial%10==0:\n",
    "        factorial=factorial//10\n",
    "        count=count+1\n",
    "    return count\n",
    "print(trailing_zero(100))"
   ]
  },
  {
   "cell_type": "code",
   "execution_count": null,
   "id": "6b5056e0",
   "metadata": {},
   "outputs": [],
   "source": []
  }
 ],
 "metadata": {
  "kernelspec": {
   "display_name": "Python 3 (ipykernel)",
   "language": "python",
   "name": "python3"
  },
  "language_info": {
   "codemirror_mode": {
    "name": "ipython",
    "version": 3
   },
   "file_extension": ".py",
   "mimetype": "text/x-python",
   "name": "python",
   "nbconvert_exporter": "python",
   "pygments_lexer": "ipython3",
   "version": "3.9.12"
  }
 },
 "nbformat": 4,
 "nbformat_minor": 5
}
