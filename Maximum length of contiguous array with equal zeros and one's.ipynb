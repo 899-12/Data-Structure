{
 "cells": [
  {
   "cell_type": "code",
   "execution_count": 6,
   "id": "724b702c",
   "metadata": {},
   "outputs": [
    {
     "name": "stdout",
     "output_type": "stream",
     "text": [
      "6\n"
     ]
    }
   ],
   "source": [
    "def max_len(nums):\n",
    "    hashmap={0:-1}\n",
    "    \n",
    "    maxlen=0\n",
    "    diff=0\n",
    "    for i,num in enumerate(nums):\n",
    "        if num == 1:\n",
    "            diff +=1\n",
    "        else:\n",
    "            diff -=1\n",
    "        if diff in hashmap:\n",
    "            maxlen=max(maxlen,i-hashmap[diff])\n",
    "        else:\n",
    "            hashmap[diff]=i\n",
    "    return maxlen\n",
    "nums=[0,1,0,0,1,1,0]\n",
    "print(max_len(nums))"
   ]
  },
  {
   "cell_type": "code",
   "execution_count": 3,
   "id": "019476bd",
   "metadata": {},
   "outputs": [
    {
     "name": "stdout",
     "output_type": "stream",
     "text": [
      "6\n"
     ]
    }
   ],
   "source": [
    "def findMaxLength(nums):\n",
    "    hashmap = {0: -1}  # Initialize with diff 0 at index -1 to handle edge cases\n",
    "    max_len = 0\n",
    "    diff = 0\n",
    "    \n",
    "    for i, num in enumerate(nums):\n",
    "        # Update the difference\n",
    "        if num == 1:\n",
    "            diff += 1\n",
    "        else:\n",
    "            diff -= 1\n",
    "        \n",
    "        # Check if the difference has been seen before\n",
    "        if diff in hashmap:\n",
    "            # Calculate the length of the subarray\n",
    "            max_len = max(max_len, i - hashmap[diff])\n",
    "        else:\n",
    "            # Store the first occurrence of the difference\n",
    "            hashmap[diff] = i\n",
    "    \n",
    "    return max_len\n",
    "\n",
    "# Example usage\n",
    "nums = [0, 1, 0, 0, 1, 1, 0]\n",
    "print(findMaxLength(nums))  # Output: 6\n"
   ]
  },
  {
   "cell_type": "code",
   "execution_count": null,
   "id": "d7313860",
   "metadata": {},
   "outputs": [],
   "source": []
  }
 ],
 "metadata": {
  "kernelspec": {
   "display_name": "Python 3 (ipykernel)",
   "language": "python",
   "name": "python3"
  },
  "language_info": {
   "codemirror_mode": {
    "name": "ipython",
    "version": 3
   },
   "file_extension": ".py",
   "mimetype": "text/x-python",
   "name": "python",
   "nbconvert_exporter": "python",
   "pygments_lexer": "ipython3",
   "version": "3.9.12"
  }
 },
 "nbformat": 4,
 "nbformat_minor": 5
}
