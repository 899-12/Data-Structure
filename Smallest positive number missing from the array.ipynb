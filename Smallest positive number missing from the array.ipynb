{
 "cells": [
  {
   "cell_type": "code",
   "execution_count": 8,
   "id": "d04efaed",
   "metadata": {},
   "outputs": [
    {
     "name": "stdout",
     "output_type": "stream",
     "text": [
      "3\n"
     ]
    }
   ],
   "source": [
    "class Solution(object):\n",
    "    def minimumpositive(self,nums):\n",
    "        n=set(nums)\n",
    "        i=1\n",
    "        while i in n:\n",
    "            i+=1\n",
    "        return i\n",
    "\n",
    "s=Solution()\n",
    "arr=[2,1,7,6,-1,-5]\n",
    "print(s.minimumpositive(arr))"
   ]
  },
  {
   "cell_type": "code",
   "execution_count": null,
   "id": "bfcf43e9",
   "metadata": {},
   "outputs": [],
   "source": []
  }
 ],
 "metadata": {
  "kernelspec": {
   "display_name": "Python 3 (ipykernel)",
   "language": "python",
   "name": "python3"
  },
  "language_info": {
   "codemirror_mode": {
    "name": "ipython",
    "version": 3
   },
   "file_extension": ".py",
   "mimetype": "text/x-python",
   "name": "python",
   "nbconvert_exporter": "python",
   "pygments_lexer": "ipython3",
   "version": "3.9.12"
  }
 },
 "nbformat": 4,
 "nbformat_minor": 5
}
